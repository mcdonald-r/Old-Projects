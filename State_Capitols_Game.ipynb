{
 "cells": [
  {
   "cell_type": "code",
   "execution_count": 10,
   "id": "9995e58c",
   "metadata": {},
   "outputs": [
    {
     "name": "stdout",
     "output_type": "stream",
     "text": [
      "*******************************************\n",
      "****** State Capitol Flash Card Game ******\n",
      "******   Number of questions:  10    ******\n",
      "*******************************************\n",
      "Question #1: What is the capitol of Oklahoma? as\n",
      "\tIncorrect; the answer is Oklahoma City\n",
      "Question #2: What is the capitol of Iowa? as\n",
      "\tIncorrect; the answer is Des Moines\n",
      "Question #3: What is the capitol of New York? as\n",
      "\tIncorrect; the answer is Albany\n",
      "Question #4: Tallahassee is the capitol of which state? as\n",
      "\tIncorrect; the answer is Florida (FL)\n",
      "Question #5: What is the capitol of West Virginia? as\n",
      "\tIncorrect; the answer is Charleston\n",
      "Question #6: What is the capitol of Alaska? as\n",
      "\tIncorrect; the answer is Juneau\n",
      "Question #7: Santa Fe is the capitol of which state? NM\n",
      "\tCorrect\n",
      "Question #8: Springfield is the capitol of which state? IL\n",
      "\tCorrect\n",
      "Question #9: What is the capitol of Mississippi? op\n",
      "\tIncorrect; the answer is Jackson\n",
      "Question #10: What is the capitol of Virginia? lp\n",
      "\tIncorrect; the answer is Richmond\n",
      "Number correct 2/10 (20.00%)\n"
     ]
    }
   ],
   "source": [
    "import random\n",
    "\n",
    "QUESTIONS = 10\n",
    "\n",
    "infile = open('capitols.txt', 'r')\n",
    "file_contents = infile.read()\n",
    "new_file_contents = file_contents.split('\\n')\n",
    "\n",
    "cap_dict = {}\n",
    "for i in range(50):\n",
    "    cap_dict[new_file_contents[(i*3)+1]] = new_file_contents[(i*3)]\n",
    "    \n",
    "state_dict = {}\n",
    "for i in range(50):\n",
    "    state_dict[new_file_contents[(i*3)+1]] = new_file_contents[(i*3)+2]\n",
    "    \n",
    "question_list = random.sample(list(cap_dict),QUESTIONS)\n",
    "\n",
    "print('*******************************************')\n",
    "print('****** State Capitol Flash Card Game ******')\n",
    "print('******   Number of questions:  10    ******')\n",
    "print('*******************************************')\n",
    "\n",
    "cor_count = 0\n",
    "for i in range(QUESTIONS):\n",
    "    decide = random.randint(0,1)\n",
    "    if decide == 0:\n",
    "        rand_question = input(f'Question #{i + 1}: {cap_dict[question_list[i]]} is the capitol of which state? ' )\n",
    "        if rand_question.upper() == question_list[i].upper() or rand_question.upper() == state_dict[question_list[i]]:\n",
    "            print('\\tCorrect')\n",
    "            cor_count += 1\n",
    "        else:\n",
    "            print(f'\\tIncorrect; the answer is {question_list[i]} ({state_dict[question_list[i]]})')\n",
    "    else:\n",
    "        rand_question = input(f'Question #{i + 1}: What is the capitol of {question_list[i]}? ' )\n",
    "        if rand_question.upper() == cap_dict[question_list[i]].upper():\n",
    "            print('\\tCorrect')\n",
    "            cor_count += 1\n",
    "        else:\n",
    "            print(f'\\tIncorrect; the answer is {cap_dict[question_list[i]]}')\n",
    "            \n",
    "print(f'Number correct {cor_count}/{QUESTIONS} ({(cor_count/QUESTIONS)*100:.2f}%)')"
   ]
  }
 ],
 "metadata": {
  "kernelspec": {
   "display_name": "Python 3 (ipykernel)",
   "language": "python",
   "name": "python3"
  },
  "language_info": {
   "codemirror_mode": {
    "name": "ipython",
    "version": 3
   },
   "file_extension": ".py",
   "mimetype": "text/x-python",
   "name": "python",
   "nbconvert_exporter": "python",
   "pygments_lexer": "ipython3",
   "version": "3.9.7"
  }
 },
 "nbformat": 4,
 "nbformat_minor": 5
}
